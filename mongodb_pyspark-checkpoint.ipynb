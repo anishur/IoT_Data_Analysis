{
 "cells": [
  {
   "cell_type": "code",
   "execution_count": 1,
   "metadata": {},
   "outputs": [],
   "source": [
    "import pyspark\n",
    "from pyspark import SparkContext as sc\n",
    "from pyspark.sql import SparkSession\n",
    "from pyspark.sql import SQLContext\n",
    "from pyspark.sql.functions import to_timestamp\n",
    "from pyspark.sql.functions import to_date\n",
    "from datetime import datetime\n",
    "from pyspark.sql.functions import col, udf\n",
    "from pyspark.sql.types import DateType\n",
    "import pyspark.sql.functions as func\n",
    "from pyspark.sql.functions import date_format\n",
    "import pandas as pd"
   ]
  },
  {
   "cell_type": "code",
   "execution_count": 2,
   "metadata": {},
   "outputs": [
    {
     "name": "stdout",
     "output_type": "stream",
     "text": [
      "3.1.2\n"
     ]
    }
   ],
   "source": [
    "print(pyspark.__version__)"
   ]
  },
  {
   "cell_type": "code",
   "execution_count": 3,
   "metadata": {},
   "outputs": [],
   "source": [
    "spark = SparkSession.builder.config(\"spark.sql.warehouse.dir\",\"file:///C:/temp\").appName(\"readJSON\").getOrCreate()"
   ]
  },
  {
   "cell_type": "code",
   "execution_count": 4,
   "metadata": {},
   "outputs": [
    {
     "name": "stdout",
     "output_type": "stream",
     "text": [
      "+--------------------+---------------+-------------------+---------------+------+--------------+--------------+\n",
      "|                 _id|           date|             dtHour|       humidity|roomId|         tempC|         tempF|\n",
      "+--------------------+---------------+-------------------+---------------+------+--------------+--------------+\n",
      "|{60b79cf2390a4678...|{1622646002682}|02-06-2021 16:00:02|Humidity: 78.8%|     1|Temp C: 21.2 C|Temp F: 70.2 F|\n",
      "|{60b79cf2dc7e036f...|{1622646002379}|02-06-2021 16:00:02|  Humidity: 57%|     2|Temp C: 23.0 C|Temp F: 73.4 F|\n",
      "|{60b79cf8390a4678...|{1622646008088}|02-06-2021 16:00:08|             78|     3|          15.3|          59.5|\n",
      "|{60b79f48390a4678...|{1622646600595}|02-06-2021 16:10:00|Humidity: 79.3%|     1|Temp C: 21.4 C|Temp F: 70.5 F|\n",
      "|{60b79f48dc7e036f...|{1622646600698}|02-06-2021 16:10:00|  Humidity: 57%|     2|Temp C: 23.0 C|Temp F: 73.4 F|\n",
      "|{60b79f4a390a4678...|{1622646602776}|02-06-2021 16:10:02|             78|     3|          15.3|          59.5|\n",
      "|{60b7a1a0390a4678...|{1622647200607}|02-06-2021 16:20:00|Humidity: 75.2%|     1|Temp C: 21.2 C|Temp F: 70.2 F|\n",
      "|{60b7a1a0dc7e036f...|{1622647200729}|02-06-2021 16:20:00|  Humidity: 57%|     2|Temp C: 24.0 C|Temp F: 75.2 F|\n",
      "|{60b7a1a2390a4678...|{1622647202658}|02-06-2021 16:20:02|             78|     3|          15.3|          59.5|\n",
      "|{60b7a3f8390a4678...|{1622647800607}|02-06-2021 16:30:00|Humidity: 75.7%|     1|Temp C: 21.1 C|Temp F: 70.0 F|\n",
      "|{60b7a3f8dc7e036f...|{1622647800737}|02-06-2021 16:30:00|  Humidity: 57%|     2|Temp C: 24.0 C|Temp F: 75.2 F|\n",
      "|{60b7a3fa390a4678...|{1622647802718}|02-06-2021 16:30:02|             78|     3|          15.3|          59.5|\n",
      "|{60b7a650390a4678...|{1622648400581}|02-06-2021 16:40:00|Humidity: 75.5%|     1|Temp C: 21.2 C|Temp F: 70.2 F|\n",
      "|{60b7a650dc7e036f...|{1622648400701}|02-06-2021 16:40:00|  Humidity: 57%|     2|Temp C: 24.0 C|Temp F: 75.2 F|\n",
      "|{60b7a653390a4678...|{1622648403287}|02-06-2021 16:40:03|             78|     3|          15.3|          59.5|\n",
      "|{60b7a8a8390a4678...|{1622649000645}|02-06-2021 16:50:00|Humidity: 75.7%|     1|Temp C: 21.2 C|Temp F: 70.2 F|\n",
      "|{60b7a8a8dc7e036f...|{1622649000727}|02-06-2021 16:50:00|  Humidity: 57%|     2|Temp C: 24.0 C|Temp F: 75.2 F|\n",
      "|{60b7a8aa390a4678...|{1622649002737}|02-06-2021 16:50:02|             78|     3|          15.3|          59.5|\n",
      "|{60b7ab00390a4678...|{1622649600587}|02-06-2021 17:00:00|Humidity: 75.5%|     1|Temp C: 21.1 C|Temp F: 70.0 F|\n",
      "|{60b7ab00dc7e036f...|{1622649600723}|02-06-2021 17:00:00|  Humidity: 56%|     2|Temp C: 24.0 C|Temp F: 75.2 F|\n",
      "+--------------------+---------------+-------------------+---------------+------+--------------+--------------+\n",
      "only showing top 20 rows\n",
      "\n"
     ]
    }
   ],
   "source": [
    "readJSONDF = spark.read.option(\"multiline\",\"true\").json('data.json')\n",
    "readJSONDF.show()"
   ]
  },
  {
   "cell_type": "code",
   "execution_count": null,
   "metadata": {},
   "outputs": [],
   "source": []
  },
  {
   "cell_type": "code",
   "execution_count": 5,
   "metadata": {},
   "outputs": [
    {
     "name": "stdout",
     "output_type": "stream",
     "text": [
      "                              _id              date               dtHour  \\\n",
      "0     (60b79cf2390a4678b367e20d,)  (1622646002682,)  02-06-2021 16:00:02   \n",
      "1     (60b79cf2dc7e036fb9f24cca,)  (1622646002379,)  02-06-2021 16:00:02   \n",
      "2     (60b79cf8390a4678b367e20f,)  (1622646008088,)  02-06-2021 16:00:08   \n",
      "3     (60b79f48390a4678b367e211,)  (1622646600595,)  02-06-2021 16:10:00   \n",
      "4     (60b79f48dc7e036fb9f24ccc,)  (1622646600698,)  02-06-2021 16:10:00   \n",
      "...                           ...               ...                  ...   \n",
      "7823  (60d43928d1161e66b28b90ec,)  (1624521000729,)  24-06-2021 08:50:00   \n",
      "7824  (60d43b80d1161e66b28b90ee,)  (1624521600696,)  24-06-2021 09:00:00   \n",
      "7825  (60d43dd8d1161e66b28b90f0,)  (1624522200699,)  24-06-2021 09:10:00   \n",
      "7826  (60d44030d1161e66b28b90f2,)  (1624522800733,)  24-06-2021 09:20:00   \n",
      "7827  (60d440320ebb7357cdb59253,)  (1624522802741,)  24-06-2021 09:20:02   \n",
      "\n",
      "             humidity roomId           tempC           tempF  \n",
      "0     Humidity: 78.8%      1  Temp C: 21.2 C  Temp F: 70.2 F  \n",
      "1       Humidity: 57%      2  Temp C: 23.0 C  Temp F: 73.4 F  \n",
      "2                  78      3            15.3            59.5  \n",
      "3     Humidity: 79.3%      1  Temp C: 21.4 C  Temp F: 70.5 F  \n",
      "4       Humidity: 57%      2  Temp C: 23.0 C  Temp F: 73.4 F  \n",
      "...               ...    ...             ...             ...  \n",
      "7823    Humidity: 52%      2  Temp C: 20.0 C  Temp F: 68.0 F  \n",
      "7824    Humidity: 51%      2  Temp C: 20.0 C  Temp F: 68.0 F  \n",
      "7825    Humidity: 51%      2  Temp C: 20.0 C  Temp F: 68.0 F  \n",
      "7826    Humidity: 51%      2  Temp C: 20.0 C  Temp F: 68.0 F  \n",
      "7827  Humidity: 75.8%      1  Temp C: 21.9 C  Temp F: 71.4 F  \n",
      "\n",
      "[7828 rows x 7 columns]\n"
     ]
    }
   ],
   "source": [
    "df = readJSONDF.toPandas()\n",
    "print(df)"
   ]
  },
  {
   "cell_type": "code",
   "execution_count": 26,
   "metadata": {},
   "outputs": [],
   "source": [
    "#df = pd.DataFrame(data,columns=['Name','Age'])\n",
    "#df = pd.DataFrame(readJSONDF)\n",
    "#df = pd.DataFrame(readJSONDF)"
   ]
  },
  {
   "cell_type": "code",
   "execution_count": 27,
   "metadata": {},
   "outputs": [
    {
     "name": "stdout",
     "output_type": "stream",
     "text": [
      "2021-06-02 15:00:02\n"
     ]
    }
   ],
   "source": [
    "#ts = int(\"1284101485\")\n",
    "ts =  int(\"1622646002682\")/1000\n",
    "print(datetime.utcfromtimestamp(ts).strftime('%Y-%m-%d %H:%M:%S'))"
   ]
  },
  {
   "cell_type": "code",
   "execution_count": 28,
   "metadata": {},
   "outputs": [
    {
     "name": "stdout",
     "output_type": "stream",
     "text": [
      "+------+---------------+-------------------+--------------+---------------+\n",
      "|roomId|           date|             dtHour|         tempC|       humidity|\n",
      "+------+---------------+-------------------+--------------+---------------+\n",
      "|     1|{1622646002682}|02-06-2021 16:00:02|Temp C: 21.2 C|Humidity: 78.8%|\n",
      "|     2|{1622646002379}|02-06-2021 16:00:02|Temp C: 23.0 C|  Humidity: 57%|\n",
      "|     3|{1622646008088}|02-06-2021 16:00:08|          15.3|             78|\n",
      "|     1|{1622646600595}|02-06-2021 16:10:00|Temp C: 21.4 C|Humidity: 79.3%|\n",
      "|     2|{1622646600698}|02-06-2021 16:10:00|Temp C: 23.0 C|  Humidity: 57%|\n",
      "|     3|{1622646602776}|02-06-2021 16:10:02|          15.3|             78|\n",
      "|     1|{1622647200607}|02-06-2021 16:20:00|Temp C: 21.2 C|Humidity: 75.2%|\n",
      "|     2|{1622647200729}|02-06-2021 16:20:00|Temp C: 24.0 C|  Humidity: 57%|\n",
      "|     3|{1622647202658}|02-06-2021 16:20:02|          15.3|             78|\n",
      "|     1|{1622647800607}|02-06-2021 16:30:00|Temp C: 21.1 C|Humidity: 75.7%|\n",
      "|     2|{1622647800737}|02-06-2021 16:30:00|Temp C: 24.0 C|  Humidity: 57%|\n",
      "|     3|{1622647802718}|02-06-2021 16:30:02|          15.3|             78|\n",
      "|     1|{1622648400581}|02-06-2021 16:40:00|Temp C: 21.2 C|Humidity: 75.5%|\n",
      "|     2|{1622648400701}|02-06-2021 16:40:00|Temp C: 24.0 C|  Humidity: 57%|\n",
      "|     3|{1622648403287}|02-06-2021 16:40:03|          15.3|             78|\n",
      "|     1|{1622649000645}|02-06-2021 16:50:00|Temp C: 21.2 C|Humidity: 75.7%|\n",
      "|     2|{1622649000727}|02-06-2021 16:50:00|Temp C: 24.0 C|  Humidity: 57%|\n",
      "|     3|{1622649002737}|02-06-2021 16:50:02|          15.3|             78|\n",
      "|     1|{1622649600587}|02-06-2021 17:00:00|Temp C: 21.1 C|Humidity: 75.5%|\n",
      "|     2|{1622649600723}|02-06-2021 17:00:00|Temp C: 24.0 C|  Humidity: 56%|\n",
      "+------+---------------+-------------------+--------------+---------------+\n",
      "only showing top 20 rows\n",
      "\n"
     ]
    }
   ],
   "source": [
    "readJSONDF.select(\"roomId\",\"date\",\"dtHour\",\"tempC\",\"humidity\").show()"
   ]
  },
  {
   "cell_type": "code",
   "execution_count": 29,
   "metadata": {},
   "outputs": [
    {
     "name": "stdout",
     "output_type": "stream",
     "text": [
      "+------+---------------+-------------------+--------------+\n",
      "|roomId|           date|             dtHour|         tempC|\n",
      "+------+---------------+-------------------+--------------+\n",
      "|     1|{1622646002682}|02-06-2021 16:00:02|Temp C: 21.2 C|\n",
      "|     2|{1622646002379}|02-06-2021 16:00:02|Temp C: 23.0 C|\n",
      "|     3|{1622646008088}|02-06-2021 16:00:08|          15.3|\n",
      "|     1|{1622646600595}|02-06-2021 16:10:00|Temp C: 21.4 C|\n",
      "|     2|{1622646600698}|02-06-2021 16:10:00|Temp C: 23.0 C|\n",
      "|     3|{1622646602776}|02-06-2021 16:10:02|          15.3|\n",
      "|     1|{1622647200607}|02-06-2021 16:20:00|Temp C: 21.2 C|\n",
      "|     2|{1622647200729}|02-06-2021 16:20:00|Temp C: 24.0 C|\n",
      "|     3|{1622647202658}|02-06-2021 16:20:02|          15.3|\n",
      "|     1|{1622647800607}|02-06-2021 16:30:00|Temp C: 21.1 C|\n",
      "|     2|{1622647800737}|02-06-2021 16:30:00|Temp C: 24.0 C|\n",
      "|     3|{1622647802718}|02-06-2021 16:30:02|          15.3|\n",
      "|     1|{1622648400581}|02-06-2021 16:40:00|Temp C: 21.2 C|\n",
      "|     2|{1622648400701}|02-06-2021 16:40:00|Temp C: 24.0 C|\n",
      "|     3|{1622648403287}|02-06-2021 16:40:03|          15.3|\n",
      "|     1|{1622649000645}|02-06-2021 16:50:00|Temp C: 21.2 C|\n",
      "|     2|{1622649000727}|02-06-2021 16:50:00|Temp C: 24.0 C|\n",
      "|     3|{1622649002737}|02-06-2021 16:50:02|          15.3|\n",
      "|     1|{1622649600587}|02-06-2021 17:00:00|Temp C: 21.1 C|\n",
      "|     2|{1622649600723}|02-06-2021 17:00:00|Temp C: 24.0 C|\n",
      "+------+---------------+-------------------+--------------+\n",
      "only showing top 20 rows\n",
      "\n"
     ]
    }
   ],
   "source": [
    "table_tempC = readJSONDF.select(\"roomId\",\"date\",\"dtHour\",\"tempC\").show()"
   ]
  },
  {
   "cell_type": "code",
   "execution_count": 30,
   "metadata": {
    "scrolled": false
   },
   "outputs": [
    {
     "name": "stdout",
     "output_type": "stream",
     "text": [
      "+------+---------------+-------------------+--------------+\n",
      "|roomId|           date|             dtHour|         tempC|\n",
      "+------+---------------+-------------------+--------------+\n",
      "|     1|{1622646002682}|02-06-2021 16:00:02|Temp C: 21.2 C|\n",
      "|     2|{1622646002379}|02-06-2021 16:00:02|Temp C: 23.0 C|\n",
      "|     3|{1622646008088}|02-06-2021 16:00:08|          15.3|\n",
      "|     1|{1622646600595}|02-06-2021 16:10:00|Temp C: 21.4 C|\n",
      "|     2|{1622646600698}|02-06-2021 16:10:00|Temp C: 23.0 C|\n",
      "|     3|{1622646602776}|02-06-2021 16:10:02|          15.3|\n",
      "|     1|{1622647200607}|02-06-2021 16:20:00|Temp C: 21.2 C|\n",
      "|     2|{1622647200729}|02-06-2021 16:20:00|Temp C: 24.0 C|\n",
      "|     3|{1622647202658}|02-06-2021 16:20:02|          15.3|\n",
      "|     1|{1622647800607}|02-06-2021 16:30:00|Temp C: 21.1 C|\n",
      "|     2|{1622647800737}|02-06-2021 16:30:00|Temp C: 24.0 C|\n",
      "|     3|{1622647802718}|02-06-2021 16:30:02|          15.3|\n",
      "|     1|{1622648400581}|02-06-2021 16:40:00|Temp C: 21.2 C|\n",
      "|     2|{1622648400701}|02-06-2021 16:40:00|Temp C: 24.0 C|\n",
      "|     3|{1622648403287}|02-06-2021 16:40:03|          15.3|\n",
      "|     1|{1622649000645}|02-06-2021 16:50:00|Temp C: 21.2 C|\n",
      "|     2|{1622649000727}|02-06-2021 16:50:00|Temp C: 24.0 C|\n",
      "|     3|{1622649002737}|02-06-2021 16:50:02|          15.3|\n",
      "|     1|{1622649600587}|02-06-2021 17:00:00|Temp C: 21.1 C|\n",
      "|     2|{1622649600723}|02-06-2021 17:00:00|Temp C: 24.0 C|\n",
      "+------+---------------+-------------------+--------------+\n",
      "only showing top 20 rows\n",
      "\n"
     ]
    }
   ],
   "source": [
    "readJSONDF.select(\"roomId\",\"date\",\"dtHour\",\"tempC\").show()"
   ]
  },
  {
   "cell_type": "code",
   "execution_count": 31,
   "metadata": {},
   "outputs": [
    {
     "ename": "AttributeError",
     "evalue": "'NoneType' object has no attribute 'toPandas'",
     "output_type": "error",
     "traceback": [
      "\u001b[1;31m---------------------------------------------------------------------------\u001b[0m",
      "\u001b[1;31mAttributeError\u001b[0m                            Traceback (most recent call last)",
      "\u001b[1;32m<ipython-input-31-fcbdbf7631b8>\u001b[0m in \u001b[0;36m<module>\u001b[1;34m\u001b[0m\n\u001b[1;32m----> 1\u001b[1;33m \u001b[0mpandas_df\u001b[0m \u001b[1;33m=\u001b[0m \u001b[0mtable_tempC\u001b[0m\u001b[1;33m.\u001b[0m\u001b[0mtoPandas\u001b[0m\u001b[1;33m(\u001b[0m\u001b[1;33m)\u001b[0m\u001b[1;33m\u001b[0m\u001b[1;33m\u001b[0m\u001b[0m\n\u001b[0m",
      "\u001b[1;31mAttributeError\u001b[0m: 'NoneType' object has no attribute 'toPandas'"
     ]
    }
   ],
   "source": [
    "pandas_df = table_tempC.toPandas()"
   ]
  },
  {
   "cell_type": "code",
   "execution_count": 15,
   "metadata": {},
   "outputs": [],
   "source": [
    "from pyspark.sql.functions import date_format"
   ]
  },
  {
   "cell_type": "code",
   "execution_count": 16,
   "metadata": {},
   "outputs": [
    {
     "ename": "TypeError",
     "evalue": "'Column' object is not callable",
     "output_type": "error",
     "traceback": [
      "\u001b[1;31m---------------------------------------------------------------------------\u001b[0m",
      "\u001b[1;31mTypeError\u001b[0m                                 Traceback (most recent call last)",
      "\u001b[1;32m<ipython-input-16-b66c560cda25>\u001b[0m in \u001b[0;36m<module>\u001b[1;34m\u001b[0m\n\u001b[1;32m----> 1\u001b[1;33m \u001b[0mreadJSONDF\u001b[0m\u001b[1;33m.\u001b[0m\u001b[0mwithColumn\u001b[0m\u001b[1;33m(\u001b[0m\u001b[1;34m'date_again'\u001b[0m\u001b[1;33m,\u001b[0m \u001b[0mfunc\u001b[0m\u001b[1;33m.\u001b[0m\u001b[0mfrom_unixtime\u001b[0m\u001b[1;33m(\u001b[0m\u001b[1;34m'date'\u001b[0m\u001b[1;33m)\u001b[0m\u001b[1;33m.\u001b[0m\u001b[0mcast\u001b[0m\u001b[1;33m(\u001b[0m\u001b[0mDateType\u001b[0m\u001b[1;33m(\u001b[0m\u001b[1;33m)\u001b[0m\u001b[1;33m)\u001b[0m\u001b[1;33m)\u001b[0m\u001b[1;33m.\u001b[0m\u001b[0mshow\u001b[0m\u001b[1;33m(\u001b[0m\u001b[1;33m)\u001b[0m\u001b[1;33m\u001b[0m\u001b[1;33m\u001b[0m\u001b[0m\n\u001b[0m",
      "\u001b[1;31mTypeError\u001b[0m: 'Column' object is not callable"
     ]
    }
   ],
   "source": [
    "readJSONDF.withColumn('date_again', func.from_unixtime('date').cast(DateType())).show()"
   ]
  },
  {
   "cell_type": "code",
   "execution_count": 17,
   "metadata": {},
   "outputs": [],
   "source": [
    "readJSONDF = func.when((readJSONDF.date.isNull() | (readJSONDF.date == '')) , '0').otherwise(func.unix_timestamp(readJSONDF.date,'yyyyMMdd'))"
   ]
  },
  {
   "cell_type": "code",
   "execution_count": 22,
   "metadata": {},
   "outputs": [],
   "source": [
    "df = spark.read.json('data.json')"
   ]
  },
  {
   "cell_type": "code",
   "execution_count": 24,
   "metadata": {},
   "outputs": [
    {
     "name": "stdout",
     "output_type": "stream",
     "text": [
      "DataFrame[_corrupt_record: string]\n"
     ]
    }
   ],
   "source": [
    "print(df)"
   ]
  }
 ],
 "metadata": {
  "kernelspec": {
   "display_name": "Python 3",
   "language": "python",
   "name": "python3"
  },
  "language_info": {
   "codemirror_mode": {
    "name": "ipython",
    "version": 3
   },
   "file_extension": ".py",
   "mimetype": "text/x-python",
   "name": "python",
   "nbconvert_exporter": "python",
   "pygments_lexer": "ipython3",
   "version": "3.6.12"
  }
 },
 "nbformat": 4,
 "nbformat_minor": 4
}
