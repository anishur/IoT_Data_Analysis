{
 "cells": [
  {
   "cell_type": "code",
   "execution_count": 2,
   "metadata": {},
   "outputs": [],
   "source": [
    "import pandas as pd\n",
    "import numpy as np\n",
    "from matplotlib.pyplot import *\n",
    "import matplotlib.pylab as plt\n",
    "import seaborn as sns\n",
    "plt.close(\"all\")\n",
    "import matplotlib.ticker as mticker\n",
    "import matplotlib.dates as mdates\n",
    "%matplotlib inline"
   ]
  },
  {
   "cell_type": "code",
   "execution_count": 3,
   "metadata": {},
   "outputs": [],
   "source": [
    "data = pd.read_csv(\"temp_room1.csv\")"
   ]
  },
  {
   "cell_type": "code",
   "execution_count": 4,
   "metadata": {},
   "outputs": [
    {
     "data": {
      "text/html": [
       "<div>\n",
       "<style scoped>\n",
       "    .dataframe tbody tr th:only-of-type {\n",
       "        vertical-align: middle;\n",
       "    }\n",
       "\n",
       "    .dataframe tbody tr th {\n",
       "        vertical-align: top;\n",
       "    }\n",
       "\n",
       "    .dataframe thead th {\n",
       "        text-align: right;\n",
       "    }\n",
       "</style>\n",
       "<table border=\"1\" class=\"dataframe\">\n",
       "  <thead>\n",
       "    <tr style=\"text-align: right;\">\n",
       "      <th></th>\n",
       "      <th>Timestamp</th>\n",
       "      <th>temp</th>\n",
       "    </tr>\n",
       "  </thead>\n",
       "  <tbody>\n",
       "    <tr>\n",
       "      <th>0</th>\n",
       "      <td>2021-02-06 16:00:02</td>\n",
       "      <td>21.2</td>\n",
       "    </tr>\n",
       "    <tr>\n",
       "      <th>1</th>\n",
       "      <td>2021-02-06 16:10:00</td>\n",
       "      <td>21.4</td>\n",
       "    </tr>\n",
       "    <tr>\n",
       "      <th>2</th>\n",
       "      <td>2021-02-06 16:20:00</td>\n",
       "      <td>21.2</td>\n",
       "    </tr>\n",
       "    <tr>\n",
       "      <th>3</th>\n",
       "      <td>2021-02-06 16:30:00</td>\n",
       "      <td>21.1</td>\n",
       "    </tr>\n",
       "    <tr>\n",
       "      <th>4</th>\n",
       "      <td>2021-02-06 16:40:00</td>\n",
       "      <td>21.2</td>\n",
       "    </tr>\n",
       "  </tbody>\n",
       "</table>\n",
       "</div>"
      ],
      "text/plain": [
       "             Timestamp  temp\n",
       "0  2021-02-06 16:00:02  21.2\n",
       "1  2021-02-06 16:10:00  21.4\n",
       "2  2021-02-06 16:20:00  21.2\n",
       "3  2021-02-06 16:30:00  21.1\n",
       "4  2021-02-06 16:40:00  21.2"
      ]
     },
     "execution_count": 4,
     "metadata": {},
     "output_type": "execute_result"
    }
   ],
   "source": [
    "data.head()"
   ]
  },
  {
   "cell_type": "code",
   "execution_count": 5,
   "metadata": {},
   "outputs": [
    {
     "data": {
      "text/plain": [
       "2772"
      ]
     },
     "execution_count": 5,
     "metadata": {},
     "output_type": "execute_result"
    }
   ],
   "source": [
    "len(data)"
   ]
  },
  {
   "cell_type": "code",
   "execution_count": 6,
   "metadata": {},
   "outputs": [
    {
     "data": {
      "text/plain": [
       "0       2021-02-06 16:00:02\n",
       "1       2021-02-06 16:10:00\n",
       "2       2021-02-06 16:20:00\n",
       "3       2021-02-06 16:30:00\n",
       "4       2021-02-06 16:40:00\n",
       "               ...         \n",
       "2767    2021-06-23 19:00:00\n",
       "2768    2021-06-23 19:10:00\n",
       "2769    2021-06-23 19:20:00\n",
       "2770    2021-06-23 19:30:00\n",
       "2771    2021-06-24 09:20:02\n",
       "Name: Timestamp, Length: 2772, dtype: object"
      ]
     },
     "execution_count": 6,
     "metadata": {},
     "output_type": "execute_result"
    }
   ],
   "source": [
    "data[\"Timestamp\"]"
   ]
  },
  {
   "cell_type": "code",
   "execution_count": 7,
   "metadata": {},
   "outputs": [
    {
     "data": {
      "text/plain": [
       "0       21.2\n",
       "1       21.4\n",
       "2       21.2\n",
       "3       21.1\n",
       "4       21.2\n",
       "        ... \n",
       "2767    22.5\n",
       "2768    22.3\n",
       "2769    22.2\n",
       "2770    22.1\n",
       "2771    21.9\n",
       "Name: temp, Length: 2772, dtype: float64"
      ]
     },
     "execution_count": 7,
     "metadata": {},
     "output_type": "execute_result"
    }
   ],
   "source": [
    "data['temp']"
   ]
  },
  {
   "cell_type": "code",
   "execution_count": 8,
   "metadata": {},
   "outputs": [],
   "source": [
    "# dataframe\n",
    "\n",
    "df = pd.DataFrame(data)"
   ]
  },
  {
   "cell_type": "code",
   "execution_count": 9,
   "metadata": {},
   "outputs": [
    {
     "name": "stdout",
     "output_type": "stream",
     "text": [
      "                Timestamp  temp\n",
      "0     2021-02-06 16:00:02  21.2\n",
      "1     2021-02-06 16:10:00  21.4\n",
      "2     2021-02-06 16:20:00  21.2\n",
      "3     2021-02-06 16:30:00  21.1\n",
      "4     2021-02-06 16:40:00  21.2\n",
      "...                   ...   ...\n",
      "2767  2021-06-23 19:00:00  22.5\n",
      "2768  2021-06-23 19:10:00  22.3\n",
      "2769  2021-06-23 19:20:00  22.2\n",
      "2770  2021-06-23 19:30:00  22.1\n",
      "2771  2021-06-24 09:20:02  21.9\n",
      "\n",
      "[2772 rows x 2 columns]\n"
     ]
    }
   ],
   "source": [
    "print(df)"
   ]
  },
  {
   "cell_type": "code",
   "execution_count": 10,
   "metadata": {},
   "outputs": [],
   "source": [
    "#set index\n",
    "\n",
    "df.set_index('Timestamp',inplace=True)"
   ]
  },
  {
   "cell_type": "code",
   "execution_count": 11,
   "metadata": {},
   "outputs": [
    {
     "name": "stdout",
     "output_type": "stream",
     "text": [
      "                     temp\n",
      "Timestamp                \n",
      "2021-02-06 16:00:02  21.2\n",
      "2021-02-06 16:10:00  21.4\n",
      "2021-02-06 16:20:00  21.2\n",
      "2021-02-06 16:30:00  21.1\n",
      "2021-02-06 16:40:00  21.2\n"
     ]
    }
   ],
   "source": [
    "print(df.head())"
   ]
  },
  {
   "cell_type": "markdown",
   "metadata": {},
   "source": [
    "###### working with temp_room1_index.csv data #####"
   ]
  },
  {
   "cell_type": "code",
   "execution_count": 12,
   "metadata": {},
   "outputs": [],
   "source": [
    "#rawdata = pd.read_csv(\"/data/training.csv\", parse_dates =[\"date\"], index_col =\"date\",encoding='utf-8')\n",
    "\n",
    "#ds['vacancy'].resample(rule='M').mean().plot('bar')\n",
    "\n",
    "\n",
    "\n",
    "df = pd.read_csv('temp_room1_index.csv', parse_dates=[\"Timestamp\"], index_col =\"Timestamp\", encoding='utf-8')"
   ]
  },
  {
   "cell_type": "code",
   "execution_count": 13,
   "metadata": {},
   "outputs": [
    {
     "name": "stdout",
     "output_type": "stream",
     "text": [
      "                     temp\n",
      "Timestamp                \n",
      "2021-02-06 16:00:02  21.2\n",
      "2021-02-06 16:10:00  21.4\n",
      "2021-02-06 16:20:00  21.2\n",
      "2021-02-06 16:30:00  21.1\n",
      "2021-02-06 16:40:00  21.2\n",
      "...                   ...\n",
      "2021-06-23 19:00:00  22.5\n",
      "2021-06-23 19:10:00  22.3\n",
      "2021-06-23 19:20:00  22.2\n",
      "2021-06-23 19:30:00  22.1\n",
      "2021-06-24 09:20:02  21.9\n",
      "\n",
      "[2772 rows x 1 columns]\n"
     ]
    }
   ],
   "source": [
    "print(df)"
   ]
  },
  {
   "cell_type": "code",
   "execution_count": 14,
   "metadata": {},
   "outputs": [
    {
     "name": "stdout",
     "output_type": "stream",
     "text": [
      "                 temp\n",
      "Timestamp            \n",
      "2021-02-06  20.497917\n",
      "2021-03-06  19.546528\n",
      "2021-04-06  19.763194\n",
      "2021-05-06  18.997917\n",
      "2021-06-06  18.886806\n",
      "2021-06-13  20.089583\n",
      "2021-06-14  21.347917\n",
      "2021-06-15  21.390972\n",
      "2021-06-16  21.646528\n",
      "2021-06-17  21.464583\n",
      "2021-06-18  21.029861\n",
      "2021-06-19  20.146528\n",
      "2021-06-20  19.754639\n",
      "2021-06-21  21.734524\n",
      "2021-06-22  20.914706\n",
      "2021-06-23  22.965385\n",
      "2021-06-24  21.900000\n",
      "2021-07-06  20.192361\n",
      "2021-08-06  20.225694\n",
      "2021-09-06  20.485417\n",
      "2021-10-06  19.900000\n",
      "2021-11-06  20.426389\n",
      "2021-12-06  20.101389\n"
     ]
    }
   ],
   "source": [
    "df1 = df.groupby(pd.Grouper(freq='d')).mean().dropna()\n",
    "print(df1)"
   ]
  },
  {
   "cell_type": "code",
   "execution_count": 15,
   "metadata": {},
   "outputs": [],
   "source": [
    "####with wrong date###\n",
    "\n",
    "#df1 = pd.DataFrame(df1, columns=['temp']) \n",
    "\n",
    "#df1.plot.bar()\n",
    "#df1.plot.line()"
   ]
  },
  {
   "cell_type": "code",
   "execution_count": 16,
   "metadata": {},
   "outputs": [],
   "source": [
    "###### working with temp_room1_datetime.csv data #####"
   ]
  },
  {
   "cell_type": "code",
   "execution_count": 17,
   "metadata": {},
   "outputs": [],
   "source": [
    "# read the file \n",
    "\n",
    "df_2 = pd.read_csv('temp_room1_datetime.csv', parse_dates=[\"Timestamp\"], index_col =\"Timestamp\", encoding='utf-8')"
   ]
  },
  {
   "cell_type": "code",
   "execution_count": 18,
   "metadata": {},
   "outputs": [
    {
     "name": "stdout",
     "output_type": "stream",
     "text": [
      "                     temp\n",
      "Timestamp                \n",
      "2021-06-02 16:00:00  21.2\n",
      "2021-06-02 16:10:00  21.4\n",
      "2021-06-02 16:20:00  21.2\n",
      "2021-06-02 16:30:00  21.1\n",
      "2021-06-02 16:40:00  21.2\n",
      "...                   ...\n",
      "2021-06-23 19:00:00  22.5\n",
      "2021-06-23 19:10:00  22.3\n",
      "2021-06-23 19:20:00  22.2\n",
      "2021-06-23 19:30:00  22.1\n",
      "2021-06-24 09:20:00  21.9\n",
      "\n",
      "[2772 rows x 1 columns]\n"
     ]
    }
   ],
   "source": [
    "print(df_2)"
   ]
  },
  {
   "cell_type": "code",
   "execution_count": 19,
   "metadata": {},
   "outputs": [
    {
     "name": "stdout",
     "output_type": "stream",
     "text": [
      "            temp_max\n",
      "Timestamp           \n",
      "2021-06-02      21.4\n",
      "2021-06-03      23.1\n",
      "2021-06-04      21.3\n",
      "2021-06-05      19.3\n",
      "2021-06-06      19.2\n",
      "2021-06-07      24.6\n",
      "2021-06-08      21.8\n",
      "2021-06-09      22.4\n",
      "2021-06-10      20.2\n",
      "2021-06-11      21.9\n",
      "2021-06-12      20.3\n",
      "2021-06-13      20.4\n",
      "2021-06-14      24.4\n",
      "2021-06-15      23.1\n",
      "2021-06-16      23.4\n",
      "2021-06-17      23.0\n",
      "2021-06-18      22.7\n",
      "2021-06-19      20.4\n",
      "2021-06-20      20.0\n",
      "2021-06-21      23.9\n",
      "2021-06-22      24.0\n",
      "2021-06-23      23.5\n",
      "2021-06-24      21.9\n"
     ]
    }
   ],
   "source": [
    "df_max = df_2.groupby(pd.Grouper(freq='d')).max().dropna().rename(columns={\"temp\":\"temp_max\"}).copy()\n",
    "\n",
    "print(df_max)"
   ]
  },
  {
   "cell_type": "code",
   "execution_count": 20,
   "metadata": {},
   "outputs": [
    {
     "name": "stdout",
     "output_type": "stream",
     "text": [
      "            temp_min\n",
      "Timestamp           \n",
      "2021-06-02      19.6\n",
      "2021-06-03      19.1\n",
      "2021-06-04      18.7\n",
      "2021-06-05      18.6\n",
      "2021-06-06      18.6\n",
      "2021-06-07      18.6\n",
      "2021-06-08      19.0\n",
      "2021-06-09      19.1\n",
      "2021-06-10      19.5\n",
      "2021-06-11      19.5\n",
      "2021-06-12      19.9\n",
      "2021-06-13      19.8\n",
      "2021-06-14      19.8\n",
      "2021-06-15      20.3\n",
      "2021-06-16      20.4\n",
      "2021-06-17      20.5\n",
      "2021-06-18      20.1\n",
      "2021-06-19      19.9\n",
      "2021-06-20      19.6\n",
      "2021-06-21      20.0\n",
      "2021-06-22      20.1\n",
      "2021-06-23      21.6\n",
      "2021-06-24      21.9\n"
     ]
    }
   ],
   "source": [
    "df_min = df_2.groupby(pd.Grouper(freq='d')).min().dropna().rename(columns={\"temp\":\"temp_min\"}).copy()\n",
    "\n",
    "print(df_min)"
   ]
  },
  {
   "cell_type": "code",
   "execution_count": 21,
   "metadata": {},
   "outputs": [
    {
     "name": "stdout",
     "output_type": "stream",
     "text": [
      "            temp_mean\n",
      "Timestamp            \n",
      "2021-06-02  20.497917\n",
      "2021-06-03  19.546528\n",
      "2021-06-04  19.763194\n",
      "2021-06-05  18.997917\n",
      "2021-06-06  18.886806\n",
      "2021-06-07  20.192361\n",
      "2021-06-08  20.225694\n",
      "2021-06-09  20.485417\n",
      "2021-06-10  19.900000\n",
      "2021-06-11  20.426389\n",
      "2021-06-12  20.101389\n",
      "2021-06-13  20.089583\n",
      "2021-06-14  21.347917\n",
      "2021-06-15  21.390972\n",
      "2021-06-16  21.646528\n",
      "2021-06-17  21.464583\n",
      "2021-06-18  21.029861\n",
      "2021-06-19  20.146528\n",
      "2021-06-20  19.754639\n",
      "2021-06-21  21.734524\n",
      "2021-06-22  20.914706\n",
      "2021-06-23  22.965385\n",
      "2021-06-24  21.900000\n"
     ]
    }
   ],
   "source": [
    "df_mean = df_2.groupby(pd.Grouper(freq='d')).mean().dropna().rename(columns={\"temp\":\"temp_mean\"}).copy()\n",
    "\n",
    "print(df_mean)"
   ]
  },
  {
   "cell_type": "code",
   "execution_count": 22,
   "metadata": {},
   "outputs": [
    {
     "name": "stdout",
     "output_type": "stream",
     "text": [
      "            temp_std\n",
      "Timestamp           \n",
      "2021-06-02  0.592323\n",
      "2021-06-03  0.783208\n",
      "2021-06-04  0.750640\n",
      "2021-06-05  0.173192\n",
      "2021-06-06  0.180615\n",
      "2021-06-07  1.463069\n",
      "2021-06-08  0.876320\n",
      "2021-06-09  1.057108\n",
      "2021-06-10  0.218706\n",
      "2021-06-11  0.762494\n",
      "2021-06-12  0.125149\n",
      "2021-06-13  0.170445\n",
      "2021-06-14  1.355381\n",
      "2021-06-15  0.818485\n",
      "2021-06-16  1.010014\n",
      "2021-06-17  0.786643\n",
      "2021-06-18  0.745530\n",
      "2021-06-19  0.148613\n",
      "2021-06-20  0.125848\n",
      "2021-06-21  0.739667\n",
      "2021-06-22  0.921916\n",
      "2021-06-23  0.482446\n"
     ]
    }
   ],
   "source": [
    "df_std = df_2.groupby(pd.Grouper(freq='d')).std().dropna().rename(columns={\"temp\":\"temp_std\"}).copy()\n",
    "\n",
    "print(df_std)"
   ]
  },
  {
   "cell_type": "code",
   "execution_count": 23,
   "metadata": {},
   "outputs": [
    {
     "data": {
      "image/png": "[encoded data removed]",
      "text/plain": [
       "<Figure size 432x288 with 1 Axes>"
      ]
     },
     "metadata": {
      "needs_background": "light"
     },
     "output_type": "display_data"
    }
   ],
   "source": [
    "df_std = pd.DataFrame(df_std, columns=['temp_std']) \n",
    "\n",
    "df_std.plot.bar()\n",
    "# df_3.plot.line()\n",
    "plt.grid()"
   ]
  },
  {
   "cell_type": "code",
   "execution_count": 24,
   "metadata": {},
   "outputs": [
    {
     "name": "stdout",
     "output_type": "stream",
     "text": [
      "            temp_max  temp_min  temp_mean  temp_std\n",
      "Timestamp                                          \n",
      "2021-06-02      21.4      19.6  20.497917  0.592323\n",
      "2021-06-03      23.1      19.1  19.546528  0.783208\n",
      "2021-06-04      21.3      18.7  19.763194  0.750640\n",
      "2021-06-05      19.3      18.6  18.997917  0.173192\n",
      "2021-06-06      19.2      18.6  18.886806  0.180615\n",
      "2021-06-07      24.6      18.6  20.192361  1.463069\n",
      "2021-06-08      21.8      19.0  20.225694  0.876320\n",
      "2021-06-09      22.4      19.1  20.485417  1.057108\n",
      "2021-06-10      20.2      19.5  19.900000  0.218706\n",
      "2021-06-11      21.9      19.5  20.426389  0.762494\n",
      "2021-06-12      20.3      19.9  20.101389  0.125149\n",
      "2021-06-13      20.4      19.8  20.089583  0.170445\n",
      "2021-06-14      24.4      19.8  21.347917  1.355381\n",
      "2021-06-15      23.1      20.3  21.390972  0.818485\n",
      "2021-06-16      23.4      20.4  21.646528  1.010014\n",
      "2021-06-17      23.0      20.5  21.464583  0.786643\n",
      "2021-06-18      22.7      20.1  21.029861  0.745530\n",
      "2021-06-19      20.4      19.9  20.146528  0.148613\n",
      "2021-06-20      20.0      19.6  19.754639  0.125848\n",
      "2021-06-21      23.9      20.0  21.734524  0.739667\n",
      "2021-06-22      24.0      20.1  20.914706  0.921916\n",
      "2021-06-23      23.5      21.6  22.965385  0.482446\n"
     ]
    }
   ],
   "source": [
    "frames = [df_max, df_min, df_mean, df_std]\n",
    "\n",
    "result = pd.concat(frames, axis=1, join=\"inner\").copy()\n",
    "\n",
    "print(result)"
   ]
  },
  {
   "cell_type": "code",
   "execution_count": 25,
   "metadata": {},
   "outputs": [
    {
     "data": {
      "image/png": "[encoded data removed]",
      "text/plain": [
       "<Figure size 432x288 with 1 Axes>"
      ]
     },
     "metadata": {
      "needs_background": "light"
     },
     "output_type": "display_data"
    }
   ],
   "source": [
    "#np.random.seed(1234)\n",
    "\n",
    "#df = pd.DataFrame(np.random.randn(10,4) , columns=['col1','col2','col3','col4'])\n",
    "\n",
    "#boxplot = df.boxplot(column=['col1','col2','col3'])\n",
    "\n",
    "\n",
    "df = pd.DataFrame(result, columns=['temp_max','temp_min','temp_mean'])\n",
    "\n",
    "boxplot = df.boxplot(column=['temp_max','temp_min','temp_mean'],patch_artist=True)"
   ]
  },
  {
   "cell_type": "code",
   "execution_count": 26,
   "metadata": {},
   "outputs": [],
   "source": [
    "#df.boxplot(by ='day', column =['temp_mean'], grid = False)"
   ]
  },
  {
   "cell_type": "code",
   "execution_count": 27,
   "metadata": {},
   "outputs": [
    {
     "data": {
      "image/png": "[encoded data removed]",
      "text/plain": [
       "<Figure size 432x288 with 1 Axes>"
      ]
     },
     "metadata": {
      "needs_background": "light"
     },
     "output_type": "display_data"
    }
   ],
   "source": [
    "result.plot()\n",
    "plt.grid(color='green',linestyle='--', linewidth=0.5)\n",
    "#plt.mgrid(True)\n",
    "plt.show()\n"
   ]
  },
  {
   "cell_type": "code",
   "execution_count": 39,
   "metadata": {},
   "outputs": [
    {
     "data": {
      "image/png": "[encoded data removed]",
      "text/plain": [
       "<Figure size 864x360 with 1 Axes>"
      ]
     },
     "metadata": {
      "needs_background": "light"
     },
     "output_type": "display_data"
    }
   ],
   "source": [
    "fig, ax = plt.subplots(figsize=(12,5))\n",
    "#fig, ax = plt.subplots(1)\n",
    "\n",
    "\n",
    "#ax.set_ylim(0,26)\n",
    "\n",
    "\n",
    "ax.set_ylabel('Daily Temp ºC')\n",
    "ax.set_xlabel('June 2021')\n",
    "ax.set_title('June 2021 Room1 Temp in ºC')\n",
    "\n",
    "#ax.plot(result.loc['2021-06-02':'2021-06-24', ['temp_max','temp_min','temp_mean','temp_std']],marker='o', linestyle='-')\n",
    "ax.plot(result.loc['2021-06-02':'2021-06-24', ['temp_max','temp_mean','temp_min']],marker='o', linestyle='-')\n",
    "\n",
    "ax.xaxis.set_major_locator(mdates.DayLocator())\n",
    "ax.xaxis.set_major_formatter(mdates.DateFormatter('%d'))\n",
    "\n",
    "\n",
    "#plt.legend([\"temp_max\",\"temp_min\",\"temp_mean\",\"temp_std\"],loc='best')\n",
    "plt.legend([\"Max Temp\",\"Mean Temp\",\"Min Temp\"],loc='best')\n",
    "\n",
    "plt.grid(color='green',linestyle='--', linewidth=0.5)\n",
    "plt.show()\n"
   ]
  },
  {
   "cell_type": "code",
   "execution_count": 40,
   "metadata": {},
   "outputs": [
    {
     "data": {
      "image/png": "[encoded data removed]",
      "text/plain": [
       "<Figure size 864x360 with 1 Axes>"
      ]
     },
     "metadata": {
      "needs_background": "light"
     },
     "output_type": "display_data"
    }
   ],
   "source": [
    "fig, ax = plt.subplots(figsize=(12,5))\n",
    "#fig, ax = plt.subplots(1)\n",
    "\n",
    "\n",
    "ax.set_ylim(0,26)\n",
    "\n",
    "\n",
    "ax.set_ylabel('Daily Temp ºC')\n",
    "ax.set_xlabel('June 2021')\n",
    "ax.set_title('June 2021 Room1_Temp in ºC')\n",
    "\n",
    "#ax.plot(result.loc['2021-06-02':'2021-06-24', ['temp_max','temp_min','temp_mean','temp_std']],marker='o', linestyle='-')\n",
    "ax.plot(result.loc['2021-06-02':'2021-06-24', ['temp_max','temp_mean','temp_min']],marker='o', linestyle='-')\n",
    "\n",
    "ax.xaxis.set_major_locator(mdates.DayLocator())\n",
    "ax.xaxis.set_major_formatter(mdates.DateFormatter('%d'))\n",
    "\n",
    "\n",
    "#plt.legend([\"temp_max\",\"temp_min\",\"temp_mean\",\"temp_std\"],loc='best')\n",
    "plt.legend([\"Max Temp\",\"Mean Temp\",\"Min Temp\"],loc='best')\n",
    "\n",
    "plt.grid(color='green',linestyle='--', linewidth=0.5)\n",
    "plt.show()\n"
   ]
  },
  {
   "cell_type": "code",
   "execution_count": 33,
   "metadata": {},
   "outputs": [],
   "source": [
    "#plt.errorbar(np.arange(8), means, std, fmt='ok', lw=3)\n",
    "#plt.errorbar(np.arrange(8), means, [means - mins, maxes - means], fmt='.k', ecolor='gray', lw=1)\n",
    "#plt.xlim(-1,8)\n",
    "\n",
    "#plt.errorbar()"
   ]
  },
  {
   "cell_type": "code",
   "execution_count": 34,
   "metadata": {},
   "outputs": [],
   "source": [
    "#values = pd.DataFrame(df_mean['temp_mean'])\n",
    "\n",
    "#values = df_mean['temp_mean']\n",
    "#dates = np.repeat(pd.date_range(\"2021-06-02\",\"2021-06-24\"))\n",
    "#df = pd.DataFrame(dict(date=dates,value=values))\n",
    "#order = df.date.unique().astype(\"datetime64[D]\")"
   ]
  },
  {
   "cell_type": "code",
   "execution_count": 35,
   "metadata": {},
   "outputs": [
    {
     "data": {
      "text/plain": [
       "{'whiskers': [<matplotlib.lines.Line2D at 0x1edb4154ac8>,\n",
       "  <matplotlib.lines.Line2D at 0x1edb4154da0>],\n",
       " 'caps': [<matplotlib.lines.Line2D at 0x1edb41650b8>,\n",
       "  <matplotlib.lines.Line2D at 0x1edb4165390>],\n",
       " 'boxes': [<matplotlib.lines.Line2D at 0x1edb4154828>],\n",
       " 'medians': [<matplotlib.lines.Line2D at 0x1edb4165668>],\n",
       " 'fliers': [<matplotlib.lines.Line2D at 0x1edb4165940>],\n",
       " 'means': []}"
      ]
     },
     "execution_count": 35,
     "metadata": {},
     "output_type": "execute_result"
    },
    {
     "data": {
      "image/png": "[encoded data removed]",
      "text/plain": [
       "<Figure size 432x288 with 1 Axes>"
      ]
     },
     "metadata": {
      "needs_background": "light"
     },
     "output_type": "display_data"
    }
   ],
   "source": [
    "values = df_mean[1:]\n",
    "#print(values)\n",
    "\n",
    "plt.boxplot(values)"
   ]
  },
  {
   "cell_type": "code",
   "execution_count": null,
   "metadata": {},
   "outputs": [],
   "source": []
  },
  {
   "cell_type": "code",
   "execution_count": 406,
   "metadata": {},
   "outputs": [],
   "source": [
    "#data = df_mean\n",
    "#plt.figure(figsize=(10,8))\n",
    "#sns.boxplot(ax=ax,data = df_mean, x='Timestamp',y='temp_mean', color='boxplot_color')\n",
    "#plt.ylabel('kjlçkdsjfa', size=14)\n",
    "#plt.xlabel('abbaabbaabsb', size=14)"
   ]
  },
  {
   "cell_type": "code",
   "execution_count": 407,
   "metadata": {},
   "outputs": [
    {
     "data": {
      "text/html": [
       "<div>\n",
       "<style scoped>\n",
       "    .dataframe tbody tr th:only-of-type {\n",
       "        vertical-align: middle;\n",
       "    }\n",
       "\n",
       "    .dataframe tbody tr th {\n",
       "        vertical-align: top;\n",
       "    }\n",
       "\n",
       "    .dataframe thead th {\n",
       "        text-align: right;\n",
       "    }\n",
       "</style>\n",
       "<table border=\"1\" class=\"dataframe\">\n",
       "  <thead>\n",
       "    <tr style=\"text-align: right;\">\n",
       "      <th></th>\n",
       "      <th>temp_mean</th>\n",
       "      <th>Timestamp</th>\n",
       "    </tr>\n",
       "    <tr>\n",
       "      <th>Timestamp</th>\n",
       "      <th></th>\n",
       "      <th></th>\n",
       "    </tr>\n",
       "  </thead>\n",
       "  <tbody>\n",
       "    <tr>\n",
       "      <th>2021-06-02</th>\n",
       "      <td>20.497917</td>\n",
       "      <td>2021-06-02</td>\n",
       "    </tr>\n",
       "    <tr>\n",
       "      <th>2021-06-03</th>\n",
       "      <td>19.546528</td>\n",
       "      <td>2021-06-03</td>\n",
       "    </tr>\n",
       "    <tr>\n",
       "      <th>2021-06-04</th>\n",
       "      <td>19.763194</td>\n",
       "      <td>2021-06-04</td>\n",
       "    </tr>\n",
       "    <tr>\n",
       "      <th>2021-06-05</th>\n",
       "      <td>18.997917</td>\n",
       "      <td>2021-06-05</td>\n",
       "    </tr>\n",
       "    <tr>\n",
       "      <th>2021-06-06</th>\n",
       "      <td>18.886806</td>\n",
       "      <td>2021-06-06</td>\n",
       "    </tr>\n",
       "    <tr>\n",
       "      <th>2021-06-07</th>\n",
       "      <td>20.192361</td>\n",
       "      <td>2021-06-07</td>\n",
       "    </tr>\n",
       "    <tr>\n",
       "      <th>2021-06-08</th>\n",
       "      <td>20.225694</td>\n",
       "      <td>2021-06-08</td>\n",
       "    </tr>\n",
       "    <tr>\n",
       "      <th>2021-06-09</th>\n",
       "      <td>20.485417</td>\n",
       "      <td>2021-06-09</td>\n",
       "    </tr>\n",
       "    <tr>\n",
       "      <th>2021-06-10</th>\n",
       "      <td>19.900000</td>\n",
       "      <td>2021-06-10</td>\n",
       "    </tr>\n",
       "    <tr>\n",
       "      <th>2021-06-11</th>\n",
       "      <td>20.426389</td>\n",
       "      <td>2021-06-11</td>\n",
       "    </tr>\n",
       "    <tr>\n",
       "      <th>2021-06-12</th>\n",
       "      <td>20.101389</td>\n",
       "      <td>2021-06-12</td>\n",
       "    </tr>\n",
       "    <tr>\n",
       "      <th>2021-06-13</th>\n",
       "      <td>20.089583</td>\n",
       "      <td>2021-06-13</td>\n",
       "    </tr>\n",
       "    <tr>\n",
       "      <th>2021-06-14</th>\n",
       "      <td>21.347917</td>\n",
       "      <td>2021-06-14</td>\n",
       "    </tr>\n",
       "    <tr>\n",
       "      <th>2021-06-15</th>\n",
       "      <td>21.390972</td>\n",
       "      <td>2021-06-15</td>\n",
       "    </tr>\n",
       "    <tr>\n",
       "      <th>2021-06-16</th>\n",
       "      <td>21.646528</td>\n",
       "      <td>2021-06-16</td>\n",
       "    </tr>\n",
       "    <tr>\n",
       "      <th>2021-06-17</th>\n",
       "      <td>21.464583</td>\n",
       "      <td>2021-06-17</td>\n",
       "    </tr>\n",
       "    <tr>\n",
       "      <th>2021-06-18</th>\n",
       "      <td>21.029861</td>\n",
       "      <td>2021-06-18</td>\n",
       "    </tr>\n",
       "    <tr>\n",
       "      <th>2021-06-19</th>\n",
       "      <td>20.146528</td>\n",
       "      <td>2021-06-19</td>\n",
       "    </tr>\n",
       "    <tr>\n",
       "      <th>2021-06-20</th>\n",
       "      <td>19.754639</td>\n",
       "      <td>2021-06-20</td>\n",
       "    </tr>\n",
       "    <tr>\n",
       "      <th>2021-06-21</th>\n",
       "      <td>21.734524</td>\n",
       "      <td>2021-06-21</td>\n",
       "    </tr>\n",
       "    <tr>\n",
       "      <th>2021-06-22</th>\n",
       "      <td>20.914706</td>\n",
       "      <td>2021-06-22</td>\n",
       "    </tr>\n",
       "    <tr>\n",
       "      <th>2021-06-23</th>\n",
       "      <td>22.965385</td>\n",
       "      <td>2021-06-23</td>\n",
       "    </tr>\n",
       "    <tr>\n",
       "      <th>2021-06-24</th>\n",
       "      <td>21.900000</td>\n",
       "      <td>2021-06-24</td>\n",
       "    </tr>\n",
       "  </tbody>\n",
       "</table>\n",
       "</div>"
      ],
      "text/plain": [
       "            temp_mean  Timestamp\n",
       "Timestamp                       \n",
       "2021-06-02  20.497917 2021-06-02\n",
       "2021-06-03  19.546528 2021-06-03\n",
       "2021-06-04  19.763194 2021-06-04\n",
       "2021-06-05  18.997917 2021-06-05\n",
       "2021-06-06  18.886806 2021-06-06\n",
       "2021-06-07  20.192361 2021-06-07\n",
       "2021-06-08  20.225694 2021-06-08\n",
       "2021-06-09  20.485417 2021-06-09\n",
       "2021-06-10  19.900000 2021-06-10\n",
       "2021-06-11  20.426389 2021-06-11\n",
       "2021-06-12  20.101389 2021-06-12\n",
       "2021-06-13  20.089583 2021-06-13\n",
       "2021-06-14  21.347917 2021-06-14\n",
       "2021-06-15  21.390972 2021-06-15\n",
       "2021-06-16  21.646528 2021-06-16\n",
       "2021-06-17  21.464583 2021-06-17\n",
       "2021-06-18  21.029861 2021-06-18\n",
       "2021-06-19  20.146528 2021-06-19\n",
       "2021-06-20  19.754639 2021-06-20\n",
       "2021-06-21  21.734524 2021-06-21\n",
       "2021-06-22  20.914706 2021-06-22\n",
       "2021-06-23  22.965385 2021-06-23\n",
       "2021-06-24  21.900000 2021-06-24"
      ]
     },
     "execution_count": 407,
     "metadata": {},
     "output_type": "execute_result"
    }
   ],
   "source": [
    "df_mean['Timestamp'] = df_mean.index\n",
    "\n",
    "df_mean"
   ]
  },
  {
   "cell_type": "code",
   "execution_count": 408,
   "metadata": {},
   "outputs": [],
   "source": [
    "#df = pd.DataFrame(np.random.randn(10,4),\n",
    "#                   columns=['Col1', 'Col2', 'Col3', 'Col4'])\n",
    "#boxplot = df.boxplot(column=['Col1', 'Col2', 'Col3'])"
   ]
  },
  {
   "cell_type": "code",
   "execution_count": 409,
   "metadata": {},
   "outputs": [
    {
     "data": {
      "image/png": "[encoded data removed]",
      "text/plain": [
       "<Figure size 432x288 with 1 Axes>"
      ]
     },
     "metadata": {
      "needs_background": "light"
     },
     "output_type": "display_data"
    }
   ],
   "source": [
    "#df['2009-05-01' :'2010-03-01']\n",
    "\n",
    "df_box=df_mean['2021-06-02':'2021-06-08']\n",
    "\n",
    "#print(df_box)\n",
    "\n",
    "bp = pd.DataFrame(df_box, columns=['Timestamp','temp_mean'])\n",
    "\n",
    "#print(bp)\n",
    "\n",
    "boxplot = bp.boxplot(column=['temp_mean'])"
   ]
  },
  {
   "cell_type": "code",
   "execution_count": 1,
   "metadata": {},
   "outputs": [],
   "source": [
    "#fig,ax = plt.subplots()\n",
    "#fig.set_size_inches(12,4)\n",
    "#sns.boxplot(x='Timestamp',y='temp_mean',data=df_box, ax=ax, orient='v')\n",
    "#plt.boxplot(df, patch_artist=True)\n",
    "#plt.boxplot(df_box)\n",
    "#plt.show()"
   ]
  },
  {
   "cell_type": "code",
   "execution_count": 411,
   "metadata": {},
   "outputs": [
    {
     "data": {
      "text/plain": [
       "<AxesSubplot:xlabel='Timestamp', ylabel='temp_mean'>"
      ]
     },
     "execution_count": 411,
     "metadata": {},
     "output_type": "execute_result"
    },
    {
     "data": {
      "image/png": "[encoded data removed]",
      "text/plain": [
       "<Figure size 432x288 with 1 Axes>"
      ]
     },
     "metadata": {
      "needs_background": "light"
     },
     "output_type": "display_data"
    }
   ],
   "source": [
    "sns.boxplot(x='Timestamp', y='temp_mean', data=df_box)\n"
   ]
  }
 ],
 "metadata": {
  "kernelspec": {
   "display_name": "Python 3",
   "language": "python",
   "name": "python3"
  },
  "language_info": {
   "codemirror_mode": {
    "name": "ipython",
    "version": 3
   },
   "file_extension": ".py",
   "mimetype": "text/x-python",
   "name": "python",
   "nbconvert_exporter": "python",
   "pygments_lexer": "ipython3",
   "version": "3.6.12"
  }
 },
 "nbformat": 4,
 "nbformat_minor": 4
}
