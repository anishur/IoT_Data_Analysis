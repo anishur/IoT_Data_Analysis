{
 "cells": [
  {
   "cell_type": "code",
   "execution_count": 10,
   "metadata": {},
   "outputs": [],
   "source": [
    "import pandas as pd"
   ]
  },
  {
   "cell_type": "code",
   "execution_count": 11,
   "metadata": {},
   "outputs": [],
   "source": [
    "idx = pd.date_range('09-01-2013','09-30-2013')\n"
   ]
  },
  {
   "cell_type": "code",
   "execution_count": 12,
   "metadata": {},
   "outputs": [],
   "source": [
    "s = pd.Series({'09-02-2013':2,\n",
    "               '09-03-2013':10,\n",
    "               '09-06-2013':5,\n",
    "               '09-07-2013':1})"
   ]
  },
  {
   "cell_type": "code",
   "execution_count": 13,
   "metadata": {},
   "outputs": [],
   "source": [
    "s.index = pd.DatetimeIndex(s.index)"
   ]
  },
  {
   "cell_type": "code",
   "execution_count": 14,
   "metadata": {},
   "outputs": [],
   "source": [
    "s = s.reindex(idx, fill_value=0)"
   ]
  },
  {
   "cell_type": "code",
   "execution_count": 15,
   "metadata": {},
   "outputs": [
    {
     "name": "stdout",
     "output_type": "stream",
     "text": [
      "2013-09-01     0\n",
      "2013-09-02     2\n",
      "2013-09-03    10\n",
      "2013-09-04     0\n",
      "2013-09-05     0\n",
      "2013-09-06     5\n",
      "2013-09-07     1\n",
      "2013-09-08     0\n",
      "2013-09-09     0\n",
      "2013-09-10     0\n",
      "2013-09-11     0\n",
      "2013-09-12     0\n",
      "2013-09-13     0\n",
      "2013-09-14     0\n",
      "2013-09-15     0\n",
      "2013-09-16     0\n",
      "2013-09-17     0\n",
      "2013-09-18     0\n",
      "2013-09-19     0\n",
      "2013-09-20     0\n",
      "2013-09-21     0\n",
      "2013-09-22     0\n",
      "2013-09-23     0\n",
      "2013-09-24     0\n",
      "2013-09-25     0\n",
      "2013-09-26     0\n",
      "2013-09-27     0\n",
      "2013-09-28     0\n",
      "2013-09-29     0\n",
      "2013-09-30     0\n",
      "Freq: D, dtype: int64\n"
     ]
    }
   ],
   "source": [
    "print(s)"
   ]
  }
 ],
 "metadata": {
  "kernelspec": {
   "display_name": "Python 3",
   "language": "python",
   "name": "python3"
  },
  "language_info": {
   "codemirror_mode": {
    "name": "ipython",
    "version": 3
   },
   "file_extension": ".py",
   "mimetype": "text/x-python",
   "name": "python",
   "nbconvert_exporter": "python",
   "pygments_lexer": "ipython3",
   "version": "3.6.12"
  }
 },
 "nbformat": 4,
 "nbformat_minor": 4
}
